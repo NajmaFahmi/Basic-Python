{
 "cells": [
  {
   "cell_type": "code",
   "execution_count": 2,
   "id": "pointed-removal",
   "metadata": {},
   "outputs": [],
   "source": [
    "import smtplib\n",
    "from email.message import EmailMessage\n",
    "from string import Template\n",
    "from pathlib import Path "
   ]
  },
  {
   "cell_type": "code",
   "execution_count": 3,
   "id": "enhanced-broadcast",
   "metadata": {},
   "outputs": [],
   "source": [
    "receiver_list = open('receiver_list.txt')\n",
    "a = receiver_list.readlines()"
   ]
  },
  {
   "cell_type": "code",
   "execution_count": 3,
   "id": "genuine-acquisition",
   "metadata": {},
   "outputs": [
    {
     "name": "stdout",
     "output_type": "stream",
     "text": [
      "['najmafahmi26@gmail.com', 'najmafahmi1@gmail.com']\n"
     ]
    }
   ],
   "source": [
    "receiver = []\n",
    "for name in a:\n",
    "    name = name.replace('\\n', '')\n",
    "    receiver.append(name)\n",
    "print(receiver)"
   ]
  },
  {
   "cell_type": "code",
   "execution_count": 1,
   "id": "affected-desire",
   "metadata": {},
   "outputs": [
    {
     "ename": "NameError",
     "evalue": "name 'EmailMessage' is not defined",
     "output_type": "error",
     "traceback": [
      "\u001b[1;31m---------------------------------------------------------------------------\u001b[0m",
      "\u001b[1;31mNameError\u001b[0m                                 Traceback (most recent call last)",
      "\u001b[1;32m<ipython-input-1-9e89b66730df>\u001b[0m in \u001b[0;36m<module>\u001b[1;34m\u001b[0m\n\u001b[1;32m----> 1\u001b[1;33m \u001b[0memail\u001b[0m \u001b[1;33m=\u001b[0m \u001b[0mEmailMessage\u001b[0m\u001b[1;33m(\u001b[0m\u001b[1;33m)\u001b[0m\u001b[1;33m\u001b[0m\u001b[1;33m\u001b[0m\u001b[0m\n\u001b[0m\u001b[0;32m      2\u001b[0m \u001b[0memail\u001b[0m\u001b[1;33m[\u001b[0m\u001b[1;34m'from'\u001b[0m\u001b[1;33m]\u001b[0m \u001b[1;33m=\u001b[0m \u001b[1;34m'Najma'\u001b[0m\u001b[1;33m\u001b[0m\u001b[1;33m\u001b[0m\u001b[0m\n\u001b[0;32m      3\u001b[0m \u001b[0memail\u001b[0m\u001b[1;33m[\u001b[0m\u001b[1;34m'to'\u001b[0m\u001b[1;33m]\u001b[0m \u001b[1;33m=\u001b[0m \u001b[0mreceiver\u001b[0m\u001b[1;33m\u001b[0m\u001b[1;33m\u001b[0m\u001b[0m\n\u001b[0;32m      4\u001b[0m \u001b[0memail\u001b[0m\u001b[1;33m[\u001b[0m\u001b[1;34m'subject'\u001b[0m\u001b[1;33m]\u001b[0m \u001b[1;33m=\u001b[0m \u001b[1;34m'Your project send email worked!!'\u001b[0m\u001b[1;33m\u001b[0m\u001b[1;33m\u001b[0m\u001b[0m\n",
      "\u001b[1;31mNameError\u001b[0m: name 'EmailMessage' is not defined"
     ]
    }
   ],
   "source": [
    "email = EmailMessage()\n",
    "email['from'] = 'Najma'\n",
    "email['to'] = receiver\n",
    "email['subject'] = 'Your project send email worked!!'"
   ]
  },
  {
   "cell_type": "code",
   "execution_count": null,
   "id": "grave-albuquerque",
   "metadata": {},
   "outputs": [],
   "source": [
    "content = '''Hallo Future Data Scientist!'''\n",
    "\n",
    "email.set_content(content)"
   ]
  },
  {
   "cell_type": "code",
   "execution_count": 6,
   "id": "eleven-remains",
   "metadata": {},
   "outputs": [
    {
     "name": "stdout",
     "output_type": "stream",
     "text": [
      "email has been sent!\n"
     ]
    }
   ],
   "source": [
    "with smtplib.SMTP(host='smtp.gmail.com', port=587) as smtp:\n",
    "  smtp.ehlo()\n",
    "  smtp.starttls()\n",
    "  smtp.login('najmaproject01@gmail.com', 'Hellomyfriend26#')\n",
    "  smtp.send_message(email)\n",
    "  print('email has been sent!')\n",
    "print('email has been sent!')"
   ]
  },
  {
   "cell_type": "code",
   "execution_count": null,
   "id": "exciting-variety",
   "metadata": {},
   "outputs": [],
   "source": []
  }
 ],
 "metadata": {
  "kernelspec": {
   "display_name": "Python 3",
   "language": "python",
   "name": "python3"
  },
  "language_info": {
   "codemirror_mode": {
    "name": "ipython",
    "version": 3
   },
   "file_extension": ".py",
   "mimetype": "text/x-python",
   "name": "python",
   "nbconvert_exporter": "python",
   "pygments_lexer": "ipython3",
   "version": "3.8.5"
  }
 },
 "nbformat": 4,
 "nbformat_minor": 5
}
