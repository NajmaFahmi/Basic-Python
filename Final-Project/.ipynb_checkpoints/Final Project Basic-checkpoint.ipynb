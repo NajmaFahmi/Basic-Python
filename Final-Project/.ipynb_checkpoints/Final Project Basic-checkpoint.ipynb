{
 "cells": [
  {
   "cell_type": "markdown",
   "id": "organizational-absence",
   "metadata": {},
   "source": [
    "# Menggunakan data HTML"
   ]
  },
  {
   "cell_type": "code",
   "execution_count": 1,
   "id": "pointed-removal",
   "metadata": {},
   "outputs": [],
   "source": [
    "import smtplib\n",
    "from email.message import EmailMessage\n",
    "from string import Template\n",
    "from pathlib import Path "
   ]
  },
  {
   "cell_type": "code",
   "execution_count": 2,
   "id": "enhanced-broadcast",
   "metadata": {},
   "outputs": [],
   "source": [
    "receiver_list = open('receiver_list.txt')\n",
    "a = receiver_list.readlines()"
   ]
  },
  {
   "cell_type": "code",
   "execution_count": 3,
   "id": "following-scale",
   "metadata": {},
   "outputs": [
    {
     "data": {
      "text/plain": [
       "['najmafahmi26@gmail.com\\n', 'najmafahmi1@gmail.com']"
      ]
     },
     "execution_count": 3,
     "metadata": {},
     "output_type": "execute_result"
    }
   ],
   "source": [
    "a"
   ]
  },
  {
   "cell_type": "code",
   "execution_count": 5,
   "id": "genuine-acquisition",
   "metadata": {},
   "outputs": [
    {
     "name": "stdout",
     "output_type": "stream",
     "text": [
      "['najmafahmi26@gmail.com', 'najmafahmi1@gmail.com']\n"
     ]
    }
   ],
   "source": [
    "receiver = []\n",
    "for name in a:\n",
    "    name = name.replace('\\n', '')\n",
    "    receiver.append(name)\n",
    "print(receiver)"
   ]
  },
  {
   "cell_type": "code",
   "execution_count": 9,
   "id": "affected-desire",
   "metadata": {},
   "outputs": [],
   "source": [
    "html = Template(Path('thankyou.html').read_text())\n",
    "email = EmailMessage()\n",
    "email.set_content(html.substitute({}), 'html')\n",
    "    \n",
    "email['from'] = 'Najma'\n",
    "email['to'] = receiver\n",
    "email['subject'] = 'Final Project Basic Python'"
   ]
  },
  {
   "cell_type": "code",
   "execution_count": 10,
   "id": "eleven-remains",
   "metadata": {},
   "outputs": [
    {
     "name": "stdout",
     "output_type": "stream",
     "text": [
      "email has been sent!\n"
     ]
    }
   ],
   "source": [
    "with smtplib.SMTP(host='smtp.gmail.com', port=587) as smtp:\n",
    "  smtp.ehlo()\n",
    "  smtp.starttls()\n",
    "  smtp.login('EMAIL', 'PASSWORD')\n",
    "  smtp.send_message(email)\n",
    "  print('email has been sent!')"
   ]
  },
  {
   "cell_type": "code",
   "execution_count": null,
   "id": "raising-contractor",
   "metadata": {},
   "outputs": [],
   "source": []
  },
  {
   "cell_type": "code",
   "execution_count": null,
   "id": "optional-accuracy",
   "metadata": {},
   "outputs": [],
   "source": []
  },
  {
   "cell_type": "code",
   "execution_count": null,
   "id": "detailed-reduction",
   "metadata": {},
   "outputs": [],
   "source": []
  },
  {
   "cell_type": "markdown",
   "id": "alive-accident",
   "metadata": {},
   "source": [
    "# Tidak menggunakan file text"
   ]
  },
  {
   "cell_type": "code",
   "execution_count": 20,
   "id": "included-chamber",
   "metadata": {},
   "outputs": [],
   "source": [
    "import smtplib\n",
    "from email.message import EmailMessage"
   ]
  },
  {
   "cell_type": "code",
   "execution_count": 21,
   "id": "sunset-relation",
   "metadata": {},
   "outputs": [],
   "source": [
    "receiver_list = open('receiver_list.txt')\n",
    "a = receiver_list.readlines()"
   ]
  },
  {
   "cell_type": "code",
   "execution_count": 22,
   "id": "opponent-railway",
   "metadata": {},
   "outputs": [
    {
     "name": "stdout",
     "output_type": "stream",
     "text": [
      "['najmafahmi26@gmail.com', 'najmafahmi1@gmail.com']\n"
     ]
    }
   ],
   "source": [
    "receiver = []\n",
    "for name in a:\n",
    "    name = name.replace('\\n', '')\n",
    "    receiver.append(name)\n",
    "print(receiver)"
   ]
  },
  {
   "cell_type": "code",
   "execution_count": 23,
   "id": "exciting-variety",
   "metadata": {},
   "outputs": [],
   "source": [
    "email = EmailMessage()\n",
    "email['from'] = 'Najma'\n",
    "email['to'] = receiver\n",
    "email['subject'] = 'Your project send email worked!!'"
   ]
  },
  {
   "cell_type": "code",
   "execution_count": 24,
   "id": "listed-spread",
   "metadata": {},
   "outputs": [],
   "source": [
    "content = '''Hallo Future Data Scientist!'''\n",
    "email.set_content(content)"
   ]
  },
  {
   "cell_type": "code",
   "execution_count": 25,
   "id": "assumed-principle",
   "metadata": {},
   "outputs": [
    {
     "name": "stdout",
     "output_type": "stream",
     "text": [
      "email has been sent!\n",
      "email has been sent!\n"
     ]
    }
   ],
   "source": [
    "with smtplib.SMTP(host='smtp.gmail.com', port=587) as smtp:\n",
    "  smtp.ehlo()\n",
    "  smtp.starttls()\n",
    "  smtp.login('EMAIL', 'PASSWORD')\n",
    "  smtp.send_message(email)\n",
    "  print('email has been sent!')"
   ]
  },
  {
   "cell_type": "code",
   "execution_count": null,
   "id": "essential-equivalent",
   "metadata": {},
   "outputs": [],
   "source": []
  }
 ],
 "metadata": {
  "kernelspec": {
   "display_name": "Python 3",
   "language": "python",
   "name": "python3"
  },
  "language_info": {
   "codemirror_mode": {
    "name": "ipython",
    "version": 3
   },
   "file_extension": ".py",
   "mimetype": "text/x-python",
   "name": "python",
   "nbconvert_exporter": "python",
   "pygments_lexer": "ipython3",
   "version": "3.8.5"
  }
 },
 "nbformat": 4,
 "nbformat_minor": 5
}
