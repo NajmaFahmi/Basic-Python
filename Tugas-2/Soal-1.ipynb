{
 "cells": [
  {
   "cell_type": "code",
   "execution_count": 1,
   "metadata": {},
   "outputs": [],
   "source": [
    "name = ['Fadzar', 'Ainur']\n",
    "no = ['08123456789', '08987654321']\n",
    "\n",
    "\n",
    "def telepon():\n",
    "    greeting = 'Selamat Datang! \\n---Menu--- \\n1. Daftar Kontak \\n2. Tambah Kontak \\n3. Keluar'\n",
    "    print(greeting)\n",
    "    menu = int(input('Pilih Menu: '))\n",
    "    \n",
    "    if menu == 1:\n",
    "        print('Daftar Kontak:')\n",
    "        for x in name:\n",
    "            daftar_kontak = f'Nama: {x} \\nNo Telepon: {no[name.index(x)]}'\n",
    "            print(daftar_kontak)\n",
    "    elif menu == 2:\n",
    "        nama_kontak_baru = input('Nama: ')\n",
    "        no_kontak_baru = input('No Telepon: ')\n",
    "        name.append(nama_kontak_baru)\n",
    "        no.append(no_kontak_baru)\n",
    "        print('Kontak berhasil ditambahkan!')\n",
    "    elif menu == 3:\n",
    "        print('Program selesai, sampai jumpa!')\n",
    "    else:\n",
    "        print('Menu tidak tersedia')"
   ]
  },
  {
   "cell_type": "code",
   "execution_count": null,
   "metadata": {},
   "outputs": [],
   "source": [
    "telepon()"
   ]
  }
 ],
 "metadata": {
  "kernelspec": {
   "display_name": "Python 3",
   "language": "python",
   "name": "python3"
  },
  "language_info": {
   "codemirror_mode": {
    "name": "ipython",
    "version": 3
   },
   "file_extension": ".py",
   "mimetype": "text/x-python",
   "name": "python",
   "nbconvert_exporter": "python",
   "pygments_lexer": "ipython3",
   "version": "3.8.5"
  }
 },
 "nbformat": 4,
 "nbformat_minor": 4
}
